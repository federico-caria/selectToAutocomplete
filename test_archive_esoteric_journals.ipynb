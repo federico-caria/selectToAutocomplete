{
  "nbformat": 4,
  "nbformat_minor": 0,
  "metadata": {
    "colab": {
      "provenance": [],
      "authorship_tag": "ABX9TyOalqsfTl9ngIF968qw87i8",
      "include_colab_link": true
    },
    "kernelspec": {
      "name": "python3",
      "display_name": "Python 3"
    },
    "language_info": {
      "name": "python"
    }
  },
  "cells": [
    {
      "cell_type": "markdown",
      "metadata": {
        "id": "view-in-github",
        "colab_type": "text"
      },
      "source": [
        "<a href=\"https://colab.research.google.com/github/federico-caria/selectToAutocomplete/blob/master/test_archive_esoteric_journals.ipynb\" target=\"_parent\"><img src=\"https://colab.research.google.com/assets/colab-badge.svg\" alt=\"Open In Colab\"/></a>"
      ]
    },
    {
      "cell_type": "code",
      "execution_count": 1,
      "metadata": {
        "id": "LHO-7aR29glH"
      },
      "outputs": [],
      "source": [
        "import os"
      ]
    },
    {
      "cell_type": "code",
      "source": [
        "pip install PyPDF2"
      ],
      "metadata": {
        "colab": {
          "base_uri": "https://localhost:8080/"
        },
        "id": "rprS7r2R-smf",
        "outputId": "4cfd2b0c-6b2b-4cd1-fda2-1d31a1ca9e51"
      },
      "execution_count": 3,
      "outputs": [
        {
          "output_type": "stream",
          "name": "stdout",
          "text": [
            "Looking in indexes: https://pypi.org/simple, https://us-python.pkg.dev/colab-wheels/public/simple/\n",
            "Collecting PyPDF2\n",
            "  Downloading pypdf2-3.0.1-py3-none-any.whl (232 kB)\n",
            "\u001b[?25l     \u001b[90m━━━━━━━━━━━━━━━━━━━━━━━━━━━━━━━━━━━━━━━━\u001b[0m \u001b[32m0.0/232.6 KB\u001b[0m \u001b[31m?\u001b[0m eta \u001b[36m-:--:--\u001b[0m\r\u001b[2K     \u001b[90m━━━━━━━━━━━━━━━━━━━━━━━━━━━━━━━━━━━━━━\u001b[0m \u001b[32m232.6/232.6 KB\u001b[0m \u001b[31m17.7 MB/s\u001b[0m eta \u001b[36m0:00:00\u001b[0m\n",
            "\u001b[?25hRequirement already satisfied: typing_extensions>=3.10.0.0 in /usr/local/lib/python3.9/dist-packages (from PyPDF2) (4.5.0)\n",
            "Installing collected packages: PyPDF2\n",
            "Successfully installed PyPDF2-3.0.1\n"
          ]
        }
      ]
    },
    {
      "cell_type": "code",
      "source": [
        "import PyPDF2"
      ],
      "metadata": {
        "id": "_tpdTSA4-0l1"
      },
      "execution_count": 4,
      "outputs": []
    },
    {
      "cell_type": "code",
      "source": [
        "import io"
      ],
      "metadata": {
        "id": "LA5pAxbcNEfd"
      },
      "execution_count": 11,
      "outputs": []
    },
    {
      "cell_type": "code",
      "source": [
        "import subprocess\n",
        "import shutil"
      ],
      "metadata": {
        "id": "XYvZeyooNH_3"
      },
      "execution_count": 12,
      "outputs": []
    },
    {
      "cell_type": "code",
      "source": [
        "!pip install pdfminer\n"
      ],
      "metadata": {
        "colab": {
          "base_uri": "https://localhost:8080/"
        },
        "id": "ipYZDInROZbT",
        "outputId": "87999039-164c-4369-aada-f1471eefb691"
      },
      "execution_count": 17,
      "outputs": [
        {
          "output_type": "stream",
          "name": "stdout",
          "text": [
            "Looking in indexes: https://pypi.org/simple, https://us-python.pkg.dev/colab-wheels/public/simple/\n",
            "Collecting pdfminer\n",
            "  Downloading pdfminer-20191125.tar.gz (4.2 MB)\n",
            "\u001b[?25l     \u001b[90m━━━━━━━━━━━━━━━━━━━━━━━━━━━━━━━━━━━━━━━━\u001b[0m \u001b[32m0.0/4.2 MB\u001b[0m \u001b[31m?\u001b[0m eta \u001b[36m-:--:--\u001b[0m\r\u001b[2K     \u001b[91m━━━━━━━━━━━━━━━━━━━━━━━━━━━━━━━━━━━━━━━\u001b[0m\u001b[91m╸\u001b[0m \u001b[32m4.2/4.2 MB\u001b[0m \u001b[31m151.8 MB/s\u001b[0m eta \u001b[36m0:00:01\u001b[0m\r\u001b[2K     \u001b[90m━━━━━━━━━━━━━━━━━━━━━━━━━━━━━━━━━━━━━━━━\u001b[0m \u001b[32m4.2/4.2 MB\u001b[0m \u001b[31m73.7 MB/s\u001b[0m eta \u001b[36m0:00:00\u001b[0m\n",
            "\u001b[?25h  Preparing metadata (setup.py) ... \u001b[?25l\u001b[?25hdone\n",
            "Collecting pycryptodome\n",
            "  Downloading pycryptodome-3.17-cp35-abi3-manylinux_2_17_x86_64.manylinux2014_x86_64.whl (2.1 MB)\n",
            "\u001b[2K     \u001b[90m━━━━━━━━━━━━━━━━━━━━━━━━━━━━━━━━━━━━━━━━\u001b[0m \u001b[32m2.1/2.1 MB\u001b[0m \u001b[31m77.6 MB/s\u001b[0m eta \u001b[36m0:00:00\u001b[0m\n",
            "\u001b[?25hBuilding wheels for collected packages: pdfminer\n",
            "  Building wheel for pdfminer (setup.py) ... \u001b[?25l\u001b[?25hdone\n",
            "  Created wheel for pdfminer: filename=pdfminer-20191125-py3-none-any.whl size=6140089 sha256=8b1c6c9a73e5020d7502eeec50dd6d942ba8f9429d362aa4742c4eda8ed5ef3c\n",
            "  Stored in directory: /root/.cache/pip/wheels/d1/aa/48/370f83a970d62355a2a47d2d640094a64eea932c22edae1891\n",
            "Successfully built pdfminer\n",
            "Installing collected packages: pycryptodome, pdfminer\n",
            "Successfully installed pdfminer-20191125 pycryptodome-3.17\n"
          ]
        }
      ]
    },
    {
      "cell_type": "code",
      "source": [
        "from pdfminer.converter import TextConverter\n",
        "from pdfminer.pdfinterp import PDFPageInterpreter\n",
        "from pdfminer.pdfinterp import PDFResourceManager\n",
        "from pdfminer.pdfpage import PDFPage"
      ],
      "metadata": {
        "id": "Us7U5-DIOVhk"
      },
      "execution_count": 18,
      "outputs": []
    },
    {
      "cell_type": "code",
      "source": [
        "def extract_metadata(pdf_path):\n",
        "    with open(pdf_path, 'rb') as f:\n",
        "        pdf_reader = PyPDF2.PdfReader(f)\n",
        "        return pdf_reader.metadata\n",
        "\n",
        "metadata = extract_metadata('/content/UR_1928.pdf')\n",
        "print(metadata)\n"
      ],
      "metadata": {
        "colab": {
          "base_uri": "https://localhost:8080/"
        },
        "id": "C3fpAa6S_Ebo",
        "outputId": "1ce958b2-645d-4057-af78-8059911cd981"
      },
      "execution_count": 29,
      "outputs": [
        {
          "output_type": "stream",
          "name": "stdout",
          "text": [
            "{'/CreationDate': 'D:20171011220545Z', '/Creator': 'Preview', '/ModDate': \"D:20171012121224-04'00'\", '/Producer': 'ABBYY FineReader 12', '/Title': 'Gruppo di UR - UR (1928) 2.vol. Ed Tilopa.pdf'}\n"
          ]
        }
      ]
    },
    {
      "cell_type": "code",
      "source": [
        "\n",
        "def split_pdf(pdf_path, chunk_size=100):\n",
        "    # Create a folder to store the split files if it doesn't exist\n",
        "    if not os.path.exists('ur-journal'):\n",
        "        os.makedirs('ur-journal')\n",
        "        \n",
        "    # Open the PDF file and get metadata\n",
        "    with open(pdf_path, 'rb') as f:\n",
        "        pdf_reader = PyPDF2.PdfReader(f)\n",
        "        metadata = pdf_reader.metadata\n",
        "        with open('ur-journal/metadata.txt', 'w') as metadata_file:\n",
        "            metadata_file.write(str(metadata))\n",
        "\n",
        "        # Split the PDF into smaller chunks\n",
        "        total_pages = len(pdf_reader.pages)\n",
        "        for i in range(0, total_pages, chunk_size):\n",
        "            start = i\n",
        "            end = min((i + 1) * chunk_size, total_pages)\n",
        "            output_path = f\"ur-journal/{os.path.splitext(os.path.basename(pdf_path))[0]}_{i+1}.pdf\"\n",
        "            with open(output_path, 'wb') as output:\n",
        "                pdf_writer = PyPDF2.PdfWriter()\n",
        "                for page_num in range(start, end):\n",
        "                    page = pdf_reader.pages[page_num]\n",
        "                    pdf_writer.add_page(page)\n",
        "                pdf_writer.write(output)\n",
        "                \n",
        "                # Convert the PDF file to plain text\n",
        "                text_output_path = f\"ur-journal/{os.path.splitext(os.path.basename(output_path))[0]}.txt\"\n",
        "                with open(text_output_path, 'w') as text_output:\n",
        "                    for page_num in range(end-start):\n",
        "                        page = pdf_writer.pages[page_num]\n",
        "                        text = page.extract_text()\n",
        "                        text_output.write(text)\n",
        "                \n",
        "                # Save metadata for the split file\n",
        "                with open(f\"ur-journal/{os.path.splitext(os.path.basename(output_path))[0]}_metadata.txt\", 'w') as metadata_file:\n",
        "                    metadata_file.write(str(metadata))\n",
        "\n",
        "# Example usage\n",
        "split_pdf('/content/UR_1928.pdf')\n"
      ],
      "metadata": {
        "id": "zGkmBqF0UC5g"
      },
      "execution_count": 50,
      "outputs": []
    }
  ]
}